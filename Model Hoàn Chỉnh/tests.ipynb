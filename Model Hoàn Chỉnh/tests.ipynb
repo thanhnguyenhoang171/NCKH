{
 "cells": [
  {
   "cell_type": "code",
   "execution_count": 1,
   "metadata": {},
   "outputs": [
    {
     "name": "stdout",
     "output_type": "stream",
     "text": [
      "Ultralytics YOLOv8.0.228 🚀 Python-3.10.0 torch-2.1.2+cpu CPU (Intel Core(TM) i7-8565U 1.80GHz)\n",
      "Setup complete ✅ (8 CPUs, 15.9 GB RAM, 134.8/343.7 GB disk)\n"
     ]
    }
   ],
   "source": [
    "from IPython import display\n",
    "\n",
    "display.clear_output()\n",
    "\n",
    "import ultralytics\n",
    "\n",
    "ultralytics.checks()"
   ]
  },
  {
   "cell_type": "code",
   "execution_count": 2,
   "metadata": {},
   "outputs": [
    {
     "name": "stdout",
     "output_type": "stream",
     "text": [
      "D:\\Chanh Resources\\NCKH\\Model hoàn chỉnh\n"
     ]
    },
    {
     "name": "stderr",
     "output_type": "stream",
     "text": [
      "C:\\Users\\LAS Chanh\\AppData\\Roaming\\Python\\Python310\\site-packages\\IPython\\core\\magics\\osm.py:417: UserWarning: using dhist requires you to install the `pickleshare` library.\n",
      "  self.shell.db['dhist'] = compress_dhist(dhist)[-100:]\n"
     ]
    }
   ],
   "source": [
    "cd D://Chanh Resources//NCKH//Model hoàn chỉnh"
   ]
  },
  {
   "cell_type": "code",
   "execution_count": 3,
   "metadata": {},
   "outputs": [
    {
     "name": "stdout",
     "output_type": "stream",
     "text": [
      "Đã thay đổi thư mục hiện tại thành: D:\\Chanh Resources\\NCKH\\Model hoàn chỉnh\n"
     ]
    }
   ],
   "source": [
    "import os\n",
    "\n",
    "# Đường dẫn mới cho thư mục hiện tại\n",
    "new_directory = \"D://Chanh Resources//NCKH//Model hoàn chỉnh\"\n",
    "\n",
    "# Thay đổi thư mục hiện tại\n",
    "os.chdir(new_directory)\n",
    "\n",
    "# In ra đường dẫn mới của thư mục hiện tại\n",
    "print(f\"Đã thay đổi thư mục hiện tại thành: {os.getcwd()}\")"
   ]
  },
  {
   "cell_type": "code",
   "execution_count": 4,
   "metadata": {},
   "outputs": [
    {
     "name": "stdout",
     "output_type": "stream",
     "text": [
      "D:\\Chanh Resources\\NCKH\\Model hoàn chỉnh\n"
     ]
    }
   ],
   "source": [
    "import os\n",
    "\n",
    "HOME = os.getcwd()\n",
    "print(HOME)"
   ]
  },
  {
   "cell_type": "code",
   "execution_count": 5,
   "metadata": {},
   "outputs": [],
   "source": [
    "from ultralytics import YOLO\n",
    "\n",
    "from IPython.display import display, Image"
   ]
  },
  {
   "cell_type": "code",
   "execution_count": 1,
   "metadata": {},
   "outputs": [
    {
     "name": "stdout",
     "output_type": "stream",
     "text": [
      "\n",
      "image 1/1 d:\\Chanh Resources\\NCKH\\Model Hoàn Chỉnh\\vvv.png: 640x640 (no detections), 153.0ms\n",
      "Speed: 4.0ms preprocess, 153.0ms inference, 1.0ms postprocess per image at shape (1, 3, 640, 640)\n",
      "[ultralytics.engine.results.Results object with attributes:\n",
      "\n",
      "boxes: ultralytics.engine.results.Boxes object\n",
      "keypoints: None\n",
      "masks: None\n",
      "names: {0: 'Cam con lai', 1: 'Cam dung va do', 2: 'Cam nguoc chieu', 3: 'Cam re', 4: 'Gioi han toc do', 5: 'Hieu lenh', 6: 'Nguy hiem'}\n",
      "orig_img: array([[[255, 255, 255],\n",
      "        [255, 255, 255],\n",
      "        [255, 255, 255],\n",
      "        ...,\n",
      "        [ 65,  84,  80],\n",
      "        [ 72,  93,  89],\n",
      "        [ 61,  82,  78]],\n",
      "\n",
      "       [[255, 255, 255],\n",
      "        [255, 255, 255],\n",
      "        [255, 255, 255],\n",
      "        ...,\n",
      "        [ 85, 106, 105],\n",
      "        [ 67,  91,  89],\n",
      "        [ 41,  63,  62]],\n",
      "\n",
      "       [[255, 255, 255],\n",
      "        [255, 255, 255],\n",
      "        [255, 255, 255],\n",
      "        ...,\n",
      "        [ 27,  47,  49],\n",
      "        [ 15,  36,  38],\n",
      "        [ 18,  37,  40]],\n",
      "\n",
      "       ...,\n",
      "\n",
      "       [[255, 255, 255],\n",
      "        [255, 255, 255],\n",
      "        [255, 255, 255],\n",
      "        ...,\n",
      "        [254, 254, 253],\n",
      "        [251, 252, 251],\n",
      "        [251, 253, 253]],\n",
      "\n",
      "       [[255, 255, 255],\n",
      "        [255, 255, 255],\n",
      "        [255, 255, 255],\n",
      "        ...,\n",
      "        [254, 254, 253],\n",
      "        [251, 252, 250],\n",
      "        [252, 253, 253]],\n",
      "\n",
      "       [[255, 255, 255],\n",
      "        [255, 255, 255],\n",
      "        [255, 255, 255],\n",
      "        ...,\n",
      "        [254, 254, 253],\n",
      "        [251, 252, 250],\n",
      "        [253, 255, 254]]], dtype=uint8)\n",
      "orig_shape: (252, 243)\n",
      "path: 'd:\\\\Chanh Resources\\\\NCKH\\\\Model Hoàn Chỉnh\\\\vvv.png'\n",
      "probs: None\n",
      "save_dir: None\n",
      "speed: {'preprocess': 4.000425338745117, 'inference': 152.9989242553711, 'postprocess': 1.0008811950683594}]\n"
     ]
    },
    {
     "ename": "",
     "evalue": "",
     "output_type": "error",
     "traceback": [
      "\u001b[1;31mThe Kernel crashed while executing code in the the current cell or a previous cell. Please review the code in the cell(s) to identify a possible cause of the failure. Click <a href='https://aka.ms/vscodeJupyterKernelCrash'>here</a> for more info. View Jupyter <a href='command:jupyter.viewOutput'>log</a> for further details."
     ]
    }
   ],
   "source": [
    "from ultralytics import YOLO\n",
    "\n",
    "model = YOLO(\"best.pt\")\n",
    "result = model.predict(source=\"vvv.png\", conf=0.25, show=True)\n",
    "print(result)"
   ]
  }
 ],
 "metadata": {
  "kernelspec": {
   "display_name": "Python 3",
   "language": "python",
   "name": "python3"
  },
  "language_info": {
   "codemirror_mode": {
    "name": "ipython",
    "version": 3
   },
   "file_extension": ".py",
   "mimetype": "text/x-python",
   "name": "python",
   "nbconvert_exporter": "python",
   "pygments_lexer": "ipython3",
   "version": "3.10.0"
  }
 },
 "nbformat": 4,
 "nbformat_minor": 2
}
